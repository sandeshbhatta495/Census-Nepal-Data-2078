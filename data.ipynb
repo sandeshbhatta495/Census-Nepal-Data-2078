{
 "cells": [
  {
   "cell_type": "code",
   "execution_count": null,
   "metadata": {},
   "outputs": [],
   "source": [
    "import pandas as pd\n",
    "import numpy as np\n",
    "import matplotlib.pyplot as plt\n",
    "import seaborn as sns\n"
   ]
  },
  {
   "cell_type": "code",
   "execution_count": null,
   "metadata": {},
   "outputs": [
    {
     "name": "stdout",
     "output_type": "stream",
     "text": [
      "   area  prov  dist             area_name  rowtotal    a_Own  b_Rented  \\\n",
      "0    10     0     0                 Nepal   6660841  5728586    850562   \n",
      "1    21     0     0    Urban Munipalities   4474699  3618763    794696   \n",
      "2    22     0     0  Rural Municipalities   2186142  2109823     55866   \n",
      "3    31     0     0              Mountain    409260   384495     20792   \n",
      "4    32     0     0                  Hill   2945030  2319710    589600   \n",
      "\n",
      "   c_Institutnl  d_Other  \n",
      "0         36809    44884  \n",
      "1         30274    30966  \n",
      "2          6535    13918  \n",
      "3          2017     1956  \n",
      "4         17024    18696  \n"
     ]
    }
   ],
   "source": [
    "\n",
    "# Use double backslashes or a raw string to avoid path errors\n",
    "df = pd.read_csv(r\"C:\\Users\\DELL\\Desktop\\censius Nepal\\NR_Hhld01_OwnershipOfHouse.csv\")\n",
    "df = pd.read_csv(r\"C:\\Users\\DELL\\Desktop\\censius Nepal\\NR_Hhld01_OwnershipOfHouse.csv\")\n",
    "df = pd.read_csv(r\"C:\\Users\\DELL\\Desktop\\censius Nepal\\NR_Hhld01_OwnershipOfHouse.csv\")\n",
    "df = pd.read_csv(r\"C:\\Users\\DELL\\Desktop\\censius Nepal\\NR_Hhld01_OwnershipOfHouse.csv\")\n",
    "df = pd.read_csv(r\"C:\\Users\\DELL\\Desktop\\censius Nepal\\NR_Hhld01_OwnershipOfHouse.csv\")\n",
    "df = pd.read_csv(r\"C:\\Users\\DELL\\Desktop\\censius Nepal\\NR_Hhld01_OwnershipOfHouse.csv\")\n",
    "\n",
    "\n",
    "# Display the first five rows\n",
    "print(df.head())\n"
   ]
  },
  {
   "cell_type": "code",
   "execution_count": null,
   "metadata": {},
   "outputs": [
    {
     "name": "stdout",
     "output_type": "stream",
     "text": [
      "<class 'pandas.core.frame.DataFrame'>\n",
      "RangeIndex: 90 entries, 0 to 89\n",
      "Data columns (total 9 columns):\n",
      " #   Column        Non-Null Count  Dtype \n",
      "---  ------        --------------  ----- \n",
      " 0   area          90 non-null     int64 \n",
      " 1   prov          90 non-null     int64 \n",
      " 2   dist          90 non-null     int64 \n",
      " 3   area_name     90 non-null     object\n",
      " 4   rowtotal      90 non-null     int64 \n",
      " 5   a_Own         90 non-null     int64 \n",
      " 6   b_Rented      90 non-null     int64 \n",
      " 7   c_Institutnl  90 non-null     int64 \n",
      " 8   d_Other       90 non-null     int64 \n",
      "dtypes: int64(8), object(1)\n",
      "memory usage: 6.5+ KB\n",
      "None\n",
      "area            0\n",
      "prov            0\n",
      "dist            0\n",
      "area_name       0\n",
      "rowtotal        0\n",
      "a_Own           0\n",
      "b_Rented        0\n",
      "c_Institutnl    0\n",
      "d_Other         0\n",
      "dtype: int64\n"
     ]
    }
   ],
   "source": [
    "print(df.info())  # Check data types and missing values\n",
    "print(df.isnull().sum())  # Count missing values\n",
    "\n",
    "df.dropna(inplace=True)  # Remove missing values\n",
    "df.fillna(df.select_dtypes(include=['object']).mode().iloc[0], inplace=True)\n",
    " # Fill missing values with column mean\n",
    "df.drop_duplicates(inplace=True)  # Remove duplicates\n"
   ]
  },
  {
   "cell_type": "code",
   "execution_count": null,
   "metadata": {},
   "outputs": [
    {
     "name": "stdout",
     "output_type": "stream",
     "text": [
      "            area       prov       dist      rowtotal         a_Own  \\\n",
      "count  90.000000  90.000000  90.000000  9.000000e+01  9.000000e+01   \n",
      "mean   47.544444   3.600000  33.366667  3.700467e+05  3.182548e+05   \n",
      "std     6.996245   2.155734  24.848959  9.778854e+05  8.341783e+05   \n",
      "min    10.000000   0.000000   0.000000  1.547000e+03  1.046000e+03   \n",
      "25%    50.000000   2.000000  10.250000  3.871450e+04  3.646125e+04   \n",
      "50%    50.000000   4.000000  32.500000  7.171300e+04  6.661100e+04   \n",
      "75%    50.000000   5.000000  54.750000  1.618035e+05  1.442390e+05   \n",
      "max    50.000000   7.000000  77.000000  6.660841e+06  5.728586e+06   \n",
      "\n",
      "            b_Rented  c_Institutnl       d_Other  \n",
      "count      90.000000     90.000000     90.000000  \n",
      "mean    47253.444444   2044.944444   2493.555556  \n",
      "std    146819.110633   5659.054007   6680.815928  \n",
      "min       243.000000     20.000000     26.000000  \n",
      "25%      1652.000000    139.250000    159.500000  \n",
      "50%      3479.500000    316.000000    449.000000  \n",
      "75%     14810.250000    825.500000   1193.500000  \n",
      "max    850562.000000  36809.000000  44884.000000  \n",
      "Index(['area', 'prov', 'dist', 'area_name', 'rowtotal', 'a_Own', 'b_Rented',\n",
      "       'c_Institutnl', 'd_Other'],\n",
      "      dtype='object')\n"
     ]
    }
   ],
   "source": [
    "print(df.describe())  \n",
    "\n"
   ]
  },
  {
   "cell_type": "code",
   "execution_count": null,
   "metadata": {},
   "outputs": [
    {
     "name": "stdout",
     "output_type": "stream",
     "text": [
      "Index(['area', 'prov', 'dist', 'area_name', 'rowtotal', 'a_Own', 'b_Rented',\n",
      "       'c_Institutnl', 'd_Other'],\n",
      "      dtype='object')\n"
     ]
    }
   ],
   "source": [
    "print(df.columns)  # Display the column names"
   ]
  }
 ],
 "metadata": {
  "kernelspec": {
   "display_name": "Python 3",
   "language": "python",
   "name": "python3"
  },
  "language_info": {
   "codemirror_mode": {
    "name": "ipython",
    "version": 3
   },
   "file_extension": ".py",
   "mimetype": "text/x-python",
   "name": "python",
   "nbconvert_exporter": "python",
   "pygments_lexer": "ipython3",
   "version": "3.13.1"
  }
 },
 "nbformat": 4,
 "nbformat_minor": 2
}
